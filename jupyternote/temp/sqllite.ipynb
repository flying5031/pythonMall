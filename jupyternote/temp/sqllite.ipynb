{
 "cells": [
  {
   "cell_type": "code",
   "execution_count": 17,
   "id": "43f74350",
   "metadata": {},
   "outputs": [],
   "source": [
    "import pandas as pd\n",
    "import csv\n",
    "import sqlite3"
   ]
  },
  {
   "cell_type": "code",
   "execution_count": 18,
   "id": "8dd32716",
   "metadata": {},
   "outputs": [],
   "source": [
    "conn = sqlite3.connect('mysqlite.db')"
   ]
  },
  {
   "cell_type": "code",
   "execution_count": 19,
   "id": "7dabc354",
   "metadata": {},
   "outputs": [],
   "source": [
    "cur = conn.cursor()"
   ]
  },
  {
   "cell_type": "code",
   "execution_count": 20,
   "id": "dac33be5",
   "metadata": {},
   "outputs": [],
   "source": [
    "sql = 'create table tb_user(name,age,sex)'"
   ]
  },
  {
   "cell_type": "code",
   "execution_count": 21,
   "id": "79e4e87d",
   "metadata": {},
   "outputs": [
    {
     "data": {
      "text/plain": [
       "<sqlite3.Cursor at 0x2b286191e30>"
      ]
     },
     "execution_count": 21,
     "metadata": {},
     "output_type": "execute_result"
    }
   ],
   "source": [
    "cur.execute(sql)"
   ]
  },
  {
   "cell_type": "code",
   "execution_count": 26,
   "id": "bbe08581",
   "metadata": {},
   "outputs": [],
   "source": [
    "insert_sql = \"insert into tb_user values('liangxin',35,1)\""
   ]
  },
  {
   "cell_type": "code",
   "execution_count": 27,
   "id": "42a59192",
   "metadata": {},
   "outputs": [
    {
     "data": {
      "text/plain": [
       "<sqlite3.Cursor at 0x2b286191e30>"
      ]
     },
     "execution_count": 27,
     "metadata": {},
     "output_type": "execute_result"
    }
   ],
   "source": [
    "cur.execute(insert_sql)"
   ]
  },
  {
   "cell_type": "code",
   "execution_count": 30,
   "id": "8687a815",
   "metadata": {},
   "outputs": [],
   "source": [
    "res = cur.execute('select * from tb_user')"
   ]
  },
  {
   "cell_type": "code",
   "execution_count": 31,
   "id": "3c17921b",
   "metadata": {},
   "outputs": [
    {
     "data": {
      "text/plain": [
       "('liangxin', 35, 1)"
      ]
     },
     "execution_count": 31,
     "metadata": {},
     "output_type": "execute_result"
    }
   ],
   "source": [
    "res.fetchone()"
   ]
  },
  {
   "cell_type": "code",
   "execution_count": null,
   "id": "e05fe7d2",
   "metadata": {},
   "outputs": [],
   "source": []
  }
 ],
 "metadata": {
  "kernelspec": {
   "display_name": "Python 3",
   "language": "python",
   "name": "python3"
  },
  "language_info": {
   "codemirror_mode": {
    "name": "ipython",
    "version": 3
   },
   "file_extension": ".py",
   "mimetype": "text/x-python",
   "name": "python",
   "nbconvert_exporter": "python",
   "pygments_lexer": "ipython3",
   "version": "3.8.8"
  }
 },
 "nbformat": 4,
 "nbformat_minor": 5
}
