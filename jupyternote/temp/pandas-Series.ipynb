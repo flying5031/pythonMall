{
 "cells": [
  {
   "cell_type": "markdown",
   "id": "8afb1264",
   "metadata": {},
   "source": [
    "  #  创建Series对象\n",
    "    pandas.Series(data=None, index=None, dtype=None, name=None, copy=False, fastpath=False)"
   ]
  },
  {
   "cell_type": "code",
   "execution_count": 2,
   "id": "04808131",
   "metadata": {},
   "outputs": [],
   "source": [
    "import pandas as pd"
   ]
  },
  {
   "cell_type": "code",
   "execution_count": 7,
   "id": "9a4c54f7",
   "metadata": {},
   "outputs": [],
   "source": [
    "a = [2,3,4,5,6]"
   ]
  },
  {
   "cell_type": "code",
   "execution_count": 8,
   "id": "0198eb6e",
   "metadata": {},
   "outputs": [],
   "source": [
    "c = pd.Series(a)"
   ]
  },
  {
   "cell_type": "code",
   "execution_count": null,
   "id": "a02607ad",
   "metadata": {},
   "outputs": [],
   "source": [
    "k"
   ]
  },
  {
   "cell_type": "code",
   "execution_count": 9,
   "id": "b59715a5",
   "metadata": {},
   "outputs": [
    {
     "data": {
      "text/plain": [
       "0    2\n",
       "1    3\n",
       "2    4\n",
       "3    5\n",
       "4    6\n",
       "dtype: int64"
      ]
     },
     "execution_count": 9,
     "metadata": {},
     "output_type": "execute_result"
    }
   ],
   "source": [
    "c"
   ]
  },
  {
   "cell_type": "code",
   "execution_count": 49,
   "id": "5f635f57",
   "metadata": {},
   "outputs": [],
   "source": [
    "a.append(8)"
   ]
  },
  {
   "cell_type": "code",
   "execution_count": 86,
   "id": "148fca20",
   "metadata": {},
   "outputs": [],
   "source": [
    "d = pd.Series({'a':2,'b':-3,'c':5})"
   ]
  },
  {
   "cell_type": "code",
   "execution_count": 88,
   "id": "3265c81b",
   "metadata": {
    "scrolled": true
   },
   "outputs": [
    {
     "data": {
      "text/plain": [
       "[2, 3, 4, 5, 6, 8]"
      ]
     },
     "execution_count": 88,
     "metadata": {},
     "output_type": "execute_result"
    }
   ],
   "source": [
    "a"
   ]
  },
  {
   "cell_type": "code",
   "execution_count": 11,
   "id": "3167361d",
   "metadata": {},
   "outputs": [
    {
     "data": {
      "text/plain": [
       "a    2\n",
       "b    3\n",
       "c    5\n",
       "dtype: int64"
      ]
     },
     "execution_count": 11,
     "metadata": {},
     "output_type": "execute_result"
    }
   ],
   "source": [
    "d"
   ]
  },
  {
   "cell_type": "code",
   "execution_count": 51,
   "id": "cd566142",
   "metadata": {},
   "outputs": [
    {
     "data": {
      "text/plain": [
       "0    2\n",
       "1    3\n",
       "2    4\n",
       "3    5\n",
       "4    6\n",
       "dtype: int64"
      ]
     },
     "execution_count": 51,
     "metadata": {},
     "output_type": "execute_result"
    }
   ],
   "source": [
    "c"
   ]
  },
  {
   "cell_type": "code",
   "execution_count": 13,
   "id": "d9c94a8d",
   "metadata": {},
   "outputs": [
    {
     "data": {
      "text/plain": [
       "3"
      ]
     },
     "execution_count": 13,
     "metadata": {},
     "output_type": "execute_result"
    }
   ],
   "source": [
    "d.loc['b']"
   ]
  },
  {
   "cell_type": "code",
   "execution_count": 14,
   "id": "83b725df",
   "metadata": {},
   "outputs": [
    {
     "data": {
      "text/plain": [
       "5"
      ]
     },
     "execution_count": 14,
     "metadata": {},
     "output_type": "execute_result"
    }
   ],
   "source": [
    "d[2]"
   ]
  },
  {
   "cell_type": "code",
   "execution_count": 15,
   "id": "791c25a5",
   "metadata": {},
   "outputs": [
    {
     "data": {
      "text/plain": [
       "5"
      ]
     },
     "execution_count": 15,
     "metadata": {},
     "output_type": "execute_result"
    }
   ],
   "source": [
    "d['c']"
   ]
  },
  {
   "cell_type": "markdown",
   "id": "83b2363e",
   "metadata": {},
   "source": [
    "# 字典指定index，若无对应值，则为NaN"
   ]
  },
  {
   "cell_type": "code",
   "execution_count": 20,
   "id": "d987a3bb",
   "metadata": {},
   "outputs": [],
   "source": [
    "d = pd.Series({'a':2,'b':3,'c':5},index = ['c','b','d','a'])"
   ]
  },
  {
   "cell_type": "code",
   "execution_count": 21,
   "id": "cd0ac183",
   "metadata": {},
   "outputs": [
    {
     "data": {
      "text/plain": [
       "c    5.0\n",
       "b    3.0\n",
       "d    NaN\n",
       "a    2.0\n",
       "dtype: float64"
      ]
     },
     "execution_count": 21,
     "metadata": {},
     "output_type": "execute_result"
    }
   ],
   "source": [
    "d"
   ]
  },
  {
   "cell_type": "code",
   "execution_count": 44,
   "id": "994b5170",
   "metadata": {},
   "outputs": [],
   "source": [
    "dic = {'a':2,'b':3,'c':5}"
   ]
  },
  {
   "cell_type": "code",
   "execution_count": 45,
   "id": "ecc31ddb",
   "metadata": {},
   "outputs": [],
   "source": [
    "d = pd.Series(dic ,index = ['c','b','d','a'],name = 'test')"
   ]
  },
  {
   "cell_type": "code",
   "execution_count": 46,
   "id": "b8b6e6a8",
   "metadata": {
    "scrolled": true
   },
   "outputs": [
    {
     "data": {
      "text/plain": [
       "c    5.0\n",
       "b    3.0\n",
       "d    NaN\n",
       "a    2.0\n",
       "Name: test, dtype: float64"
      ]
     },
     "execution_count": 46,
     "metadata": {},
     "output_type": "execute_result"
    }
   ],
   "source": [
    "d"
   ]
  },
  {
   "cell_type": "code",
   "execution_count": 47,
   "id": "5c528058",
   "metadata": {},
   "outputs": [],
   "source": [
    "dic['a']= 8"
   ]
  },
  {
   "cell_type": "code",
   "execution_count": 48,
   "id": "c214216c",
   "metadata": {},
   "outputs": [
    {
     "data": {
      "text/plain": [
       "c    5.0\n",
       "b    3.0\n",
       "d    NaN\n",
       "a    2.0\n",
       "Name: test, dtype: float64"
      ]
     },
     "execution_count": 48,
     "metadata": {},
     "output_type": "execute_result"
    }
   ],
   "source": [
    "d"
   ]
  },
  {
   "cell_type": "code",
   "execution_count": 55,
   "id": "2a698553",
   "metadata": {},
   "outputs": [],
   "source": [
    "d = pd.Series({'a':2,'b':3,'c':5},index = ['c','b','d','a'],name = 'test',copy=True)"
   ]
  },
  {
   "cell_type": "code",
   "execution_count": 33,
   "id": "17ac4aa0",
   "metadata": {},
   "outputs": [
    {
     "data": {
      "text/plain": [
       "c    5.0\n",
       "b    3.0\n",
       "d    NaN\n",
       "a    2.0\n",
       "Name: test, dtype: float64"
      ]
     },
     "execution_count": 33,
     "metadata": {},
     "output_type": "execute_result"
    }
   ],
   "source": [
    "d"
   ]
  },
  {
   "cell_type": "code",
   "execution_count": 82,
   "id": "0cb23e47",
   "metadata": {},
   "outputs": [
    {
     "data": {
      "text/plain": [
       "nan"
      ]
     },
     "execution_count": 82,
     "metadata": {},
     "output_type": "execute_result"
    }
   ],
   "source": [
    "d['d']"
   ]
  },
  {
   "cell_type": "code",
   "execution_count": 54,
   "id": "e6d66829",
   "metadata": {},
   "outputs": [
    {
     "data": {
      "text/plain": [
       "2.0"
      ]
     },
     "execution_count": 54,
     "metadata": {},
     "output_type": "execute_result"
    }
   ],
   "source": [
    "d[3]"
   ]
  },
  {
   "cell_type": "markdown",
   "id": "4f2b8086",
   "metadata": {},
   "source": [
    "#  Series的常用属性，index/axes获取索引，size获取长度，empty判断是否为空"
   ]
  },
  {
   "cell_type": "code",
   "execution_count": 57,
   "id": "ecc5d8a3",
   "metadata": {},
   "outputs": [
    {
     "data": {
      "text/plain": [
       "[Index(['c', 'b', 'd', 'a'], dtype='object')]"
      ]
     },
     "execution_count": 57,
     "metadata": {},
     "output_type": "execute_result"
    }
   ],
   "source": [
    "d.axes"
   ]
  },
  {
   "cell_type": "code",
   "execution_count": 59,
   "id": "8faa3676",
   "metadata": {},
   "outputs": [
    {
     "data": {
      "text/plain": [
       "dtype('float64')"
      ]
     },
     "execution_count": 59,
     "metadata": {},
     "output_type": "execute_result"
    }
   ],
   "source": [
    "d.dtype"
   ]
  },
  {
   "cell_type": "code",
   "execution_count": 61,
   "id": "89a0efa6",
   "metadata": {},
   "outputs": [
    {
     "data": {
      "text/plain": [
       "dtype('float64')"
      ]
     },
     "execution_count": 61,
     "metadata": {},
     "output_type": "execute_result"
    }
   ],
   "source": [
    "d.dtypes"
   ]
  },
  {
   "cell_type": "code",
   "execution_count": 62,
   "id": "97072bf8",
   "metadata": {},
   "outputs": [
    {
     "data": {
      "text/plain": [
       "False"
      ]
     },
     "execution_count": 62,
     "metadata": {},
     "output_type": "execute_result"
    }
   ],
   "source": [
    "d.empty"
   ]
  },
  {
   "cell_type": "code",
   "execution_count": 63,
   "id": "504db2a0",
   "metadata": {},
   "outputs": [
    {
     "data": {
      "text/plain": [
       "array([ 5.,  3., nan,  2.])"
      ]
     },
     "execution_count": 63,
     "metadata": {},
     "output_type": "execute_result"
    }
   ],
   "source": [
    "d.values"
   ]
  },
  {
   "cell_type": "code",
   "execution_count": 64,
   "id": "d888e98c",
   "metadata": {},
   "outputs": [
    {
     "data": {
      "text/plain": [
       "4"
      ]
     },
     "execution_count": 64,
     "metadata": {},
     "output_type": "execute_result"
    }
   ],
   "source": [
    "d.size"
   ]
  },
  {
   "cell_type": "code",
   "execution_count": 65,
   "id": "da33b719",
   "metadata": {},
   "outputs": [
    {
     "data": {
      "text/plain": [
       "1"
      ]
     },
     "execution_count": 65,
     "metadata": {},
     "output_type": "execute_result"
    }
   ],
   "source": [
    "d.ndim"
   ]
  },
  {
   "cell_type": "code",
   "execution_count": 66,
   "id": "59fe3c8e",
   "metadata": {},
   "outputs": [
    {
     "data": {
      "text/plain": [
       "(4,)"
      ]
     },
     "execution_count": 66,
     "metadata": {},
     "output_type": "execute_result"
    }
   ],
   "source": [
    "d.shape"
   ]
  },
  {
   "cell_type": "code",
   "execution_count": 70,
   "id": "f5bc21b9",
   "metadata": {},
   "outputs": [
    {
     "data": {
      "text/plain": [
       "Index(['c', 'b', 'd', 'a'], dtype='object')"
      ]
     },
     "execution_count": 70,
     "metadata": {},
     "output_type": "execute_result"
    }
   ],
   "source": [
    "d.index"
   ]
  },
  {
   "cell_type": "code",
   "execution_count": 89,
   "id": "fd9a6fdb",
   "metadata": {},
   "outputs": [
    {
     "data": {
      "text/plain": [
       "False"
      ]
     },
     "execution_count": 89,
     "metadata": {},
     "output_type": "execute_result"
    }
   ],
   "source": [
    "d.empty"
   ]
  },
  {
   "cell_type": "code",
   "execution_count": 100,
   "id": "62c304c9",
   "metadata": {},
   "outputs": [],
   "source": [
    "e= pd.Series([3,0,2,1,4,'e',''])"
   ]
  },
  {
   "cell_type": "code",
   "execution_count": 101,
   "id": "715006d5",
   "metadata": {},
   "outputs": [
    {
     "data": {
      "text/plain": [
       "0    3\n",
       "1    0\n",
       "2    2\n",
       "3    1\n",
       "4    4\n",
       "5    e\n",
       "6     \n",
       "dtype: object"
      ]
     },
     "execution_count": 101,
     "metadata": {},
     "output_type": "execute_result"
    }
   ],
   "source": [
    "e"
   ]
  },
  {
   "cell_type": "code",
   "execution_count": 143,
   "id": "9ab70b99",
   "metadata": {},
   "outputs": [],
   "source": [
    "df = pd.DataFrame({\"A\": [1, 2], \"B\": [0, 2], \"C\": [0, -9],\"D\":['X','Z'],\"E\":['X',9]})"
   ]
  },
  {
   "cell_type": "code",
   "execution_count": 144,
   "id": "6a2a886f",
   "metadata": {
    "scrolled": true
   },
   "outputs": [
    {
     "data": {
      "text/html": [
       "<div>\n",
       "<style scoped>\n",
       "    .dataframe tbody tr th:only-of-type {\n",
       "        vertical-align: middle;\n",
       "    }\n",
       "\n",
       "    .dataframe tbody tr th {\n",
       "        vertical-align: top;\n",
       "    }\n",
       "\n",
       "    .dataframe thead th {\n",
       "        text-align: right;\n",
       "    }\n",
       "</style>\n",
       "<table border=\"1\" class=\"dataframe\">\n",
       "  <thead>\n",
       "    <tr style=\"text-align: right;\">\n",
       "      <th></th>\n",
       "      <th>A</th>\n",
       "      <th>B</th>\n",
       "      <th>C</th>\n",
       "      <th>D</th>\n",
       "      <th>E</th>\n",
       "    </tr>\n",
       "  </thead>\n",
       "  <tbody>\n",
       "    <tr>\n",
       "      <th>0</th>\n",
       "      <td>1</td>\n",
       "      <td>0</td>\n",
       "      <td>0</td>\n",
       "      <td>X</td>\n",
       "      <td>X</td>\n",
       "    </tr>\n",
       "    <tr>\n",
       "      <th>1</th>\n",
       "      <td>2</td>\n",
       "      <td>2</td>\n",
       "      <td>-9</td>\n",
       "      <td>Z</td>\n",
       "      <td>9</td>\n",
       "    </tr>\n",
       "  </tbody>\n",
       "</table>\n",
       "</div>"
      ],
      "text/plain": [
       "   A  B  C  D  E\n",
       "0  1  0  0  X  X\n",
       "1  2  2 -9  Z  9"
      ]
     },
     "execution_count": 144,
     "metadata": {},
     "output_type": "execute_result"
    }
   ],
   "source": [
    "df"
   ]
  },
  {
   "cell_type": "code",
   "execution_count": 147,
   "id": "38c4ff56",
   "metadata": {},
   "outputs": [
    {
     "data": {
      "text/plain": [
       "A    2\n",
       "B    2\n",
       "C    0\n",
       "D    Z\n",
       "dtype: object"
      ]
     },
     "execution_count": 147,
     "metadata": {},
     "output_type": "execute_result"
    }
   ],
   "source": [
    "df.max()"
   ]
  },
  {
   "cell_type": "code",
   "execution_count": 149,
   "id": "d81d0ece",
   "metadata": {},
   "outputs": [
    {
     "data": {
      "text/plain": [
       "A     3\n",
       "B     2\n",
       "C    -9\n",
       "D    XZ\n",
       "dtype: object"
      ]
     },
     "execution_count": 149,
     "metadata": {},
     "output_type": "execute_result"
    }
   ],
   "source": [
    "df.sum()"
   ]
  },
  {
   "cell_type": "code",
   "execution_count": 116,
   "id": "347831a9",
   "metadata": {},
   "outputs": [],
   "source": [
    "idx = pd.MultiIndex.from_arrays([\n",
    "    ['warm', 'warm', 'cold', 'cold'],\n",
    "    ['dog', 'falcon', 'fish', 'spider']],\n",
    "    names=['blooded', 'animal'])\n",
    "s = pd.Series([4, 2, 0, 8], name='legs', index=idx)"
   ]
  },
  {
   "cell_type": "code",
   "execution_count": 117,
   "id": "d3699a43",
   "metadata": {},
   "outputs": [
    {
     "data": {
      "text/plain": [
       "blooded  animal\n",
       "warm     dog       4\n",
       "         falcon    2\n",
       "cold     fish      0\n",
       "         spider    8\n",
       "Name: legs, dtype: int64"
      ]
     },
     "execution_count": 117,
     "metadata": {},
     "output_type": "execute_result"
    }
   ],
   "source": [
    "s"
   ]
  },
  {
   "cell_type": "code",
   "execution_count": 134,
   "id": "d9df3e72",
   "metadata": {},
   "outputs": [
    {
     "data": {
      "text/plain": [
       "6"
      ]
     },
     "execution_count": 134,
     "metadata": {},
     "output_type": "execute_result"
    }
   ],
   "source": [
    "s['warm'].sum()"
   ]
  },
  {
   "cell_type": "code",
   "execution_count": 150,
   "id": "1a678bc6",
   "metadata": {},
   "outputs": [
    {
     "data": {
      "text/plain": [
       "blooded\n",
       "warm    6\n",
       "cold    8\n",
       "Name: legs, dtype: int64"
      ]
     },
     "execution_count": 150,
     "metadata": {},
     "output_type": "execute_result"
    }
   ],
   "source": [
    "s.sum(level='blooded')"
   ]
  },
  {
   "cell_type": "code",
   "execution_count": null,
   "id": "c8c8fa56",
   "metadata": {},
   "outputs": [],
   "source": []
  }
 ],
 "metadata": {
  "kernelspec": {
   "display_name": "Python 3",
   "language": "python",
   "name": "python3"
  },
  "language_info": {
   "codemirror_mode": {
    "name": "ipython",
    "version": 3
   },
   "file_extension": ".py",
   "mimetype": "text/x-python",
   "name": "python",
   "nbconvert_exporter": "python",
   "pygments_lexer": "ipython3",
   "version": "3.8.8"
  }
 },
 "nbformat": 4,
 "nbformat_minor": 5
}
